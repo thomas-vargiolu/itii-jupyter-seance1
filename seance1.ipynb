{
 "cells": [
  {
   "cell_type": "code",
   "execution_count": 16,
   "metadata": {},
   "outputs": [
    {
     "name": "stdin",
     "output_type": "stream",
     "text": [
      "Rentrer le rayon :  4\n",
      "Rentrer la hauteur : 4\n"
     ]
    },
    {
     "name": "stdout",
     "output_type": "stream",
     "text": [
      "67.02064327658225\n"
     ]
    }
   ],
   "source": [
    "# Exercice 1 \n",
    "from math import *\n",
    "rayon = float (input(\"Rentrer le rayon : \"))\n",
    "hauteur = float (input(\"Rentrer la hauteur :\"))\n",
    "print((1/3)*pi*rayon**2*hauteur)\n"
   ]
  },
  {
   "cell_type": "code",
   "execution_count": 26,
   "metadata": {},
   "outputs": [
    {
     "name": "stdin",
     "output_type": "stream",
     "text": [
      "Rentrer une valeur :  4\n"
     ]
    },
    {
     "name": "stdout",
     "output_type": "stream",
     "text": [
      "100\n"
     ]
    },
    {
     "name": "stdin",
     "output_type": "stream",
     "text": [
      "Rentrer une valeur :  4\n"
     ]
    },
    {
     "name": "stdout",
     "output_type": "stream",
     "text": [
      "10\n"
     ]
    }
   ],
   "source": [
    "# Exercice 2\n",
    "val = int (input(\"Rentrer une valeur : \"))\n",
    "somme = 0\n",
    "for i in range(val+1):\n",
    "    somme = i**3 + somme\n",
    "print(somme)\n",
    "\n",
    "val2 = int (input(\"Rentrer une valeur : \"))\n",
    "somme2 = 0\n",
    "for i in range(val2+1):\n",
    "    somme2 = i + somme2\n",
    "print(somme2)\n",
    "\n"
   ]
  },
  {
   "cell_type": "code",
   "execution_count": 27,
   "metadata": {},
   "outputs": [
    {
     "name": "stdout",
     "output_type": "stream",
     "text": [
      "290\n"
     ]
    }
   ],
   "source": [
    "# Exercice 3\n",
    "print(290)\n"
   ]
  }
 ],
 "metadata": {
  "kernelspec": {
   "display_name": "Python 3",
   "language": "python",
   "name": "python3"
  },
  "language_info": {
   "codemirror_mode": {
    "name": "ipython",
    "version": 3
   },
   "file_extension": ".py",
   "mimetype": "text/x-python",
   "name": "python",
   "nbconvert_exporter": "python",
   "pygments_lexer": "ipython3",
   "version": "3.7.0"
  }
 },
 "nbformat": 4,
 "nbformat_minor": 2
}
